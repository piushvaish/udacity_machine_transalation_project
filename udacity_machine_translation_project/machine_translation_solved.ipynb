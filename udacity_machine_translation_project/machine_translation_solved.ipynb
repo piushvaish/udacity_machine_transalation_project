{
 "cells": [
  {
   "cell_type": "markdown",
   "metadata": {
    "collapsed": true
   },
   "source": [
    "# Artificial Intelligence Nanodegree\n",
    "## Machine Translation Project\n",
    "In this notebook, sections that end with **'(IMPLEMENTATION)'** in the header indicate that the following blocks of code will require additional functionality which you must provide. Please be sure to read the instructions carefully!\n",
    "\n",
    "## Introduction\n",
    "In this notebook, you will build a deep neural network that functions as part of an end-to-end machine translation pipeline. Your completed pipeline will accept English text as input and return the French translation.\n",
    "\n",
    "- **Preprocess** - You'll convert text to sequence of integers.\n",
    "- **Models** Create models which accepts a sequence of integers as input and returns a probability distribution over possible translations. After learning about the basic types of neural networks that are often used for machine translation, you will engage in your own investigations, to design your own model!\n",
    "- **Prediction** Run the model on English text."
   ]
  },
  {
   "cell_type": "code",
   "execution_count": 1,
   "metadata": {},
   "outputs": [],
   "source": [
    "%load_ext autoreload\n",
    "%aimport helper, tests\n",
    "%autoreload 1"
   ]
  },
  {
   "cell_type": "code",
   "execution_count": 2,
   "metadata": {},
   "outputs": [
    {
     "name": "stderr",
     "output_type": "stream",
     "text": [
      "Using TensorFlow backend.\n"
     ]
    }
   ],
   "source": [
    "import collections\n",
    "\n",
    "import helper\n",
    "import numpy as np\n",
    "import project_tests as tests\n",
    "\n",
    "import matplotlib.pyplot as plt\n",
    "%matplotlib inline\n",
    "from sklearn.model_selection import StratifiedKFold\n",
    "import warnings\n",
    "warnings.filterwarnings(\"ignore\")\n",
    "\n",
    "from keras.preprocessing.text import Tokenizer\n",
    "from keras.preprocessing.sequence import pad_sequences\n",
    "from keras.models import Model\n",
    "from keras.layers import GRU, Input, Dense, TimeDistributed, Activation, RepeatVector, Bidirectional,LSTM\n",
    "from keras.layers.embeddings import Embedding\n",
    "from keras.optimizers import Adam\n",
    "from keras.losses import sparse_categorical_crossentropy\n",
    "from keras.callbacks import EarlyStopping, ModelCheckpoint\n",
    "from keras.layers.embeddings import Embedding\n",
    "from keras.models import Sequential\n"
   ]
  },
  {
   "cell_type": "markdown",
   "metadata": {},
   "source": [
    "### Verify access to the GPU\n",
    "The following test applies only if you expect to be using a GPU, e.g., while running in a Udacity Workspace or using an AWS instance with GPU support. Run the next cell, and verify that the device_type is \"GPU\".\n",
    "- If the device is not GPU & you are running from a Udacity Workspace, then save your workspace with the icon at the top, then click \"enable\" at the bottom of the workspace.\n",
    "- If the device is not GPU & you are running from an AWS instance, then refer to the cloud computing instructions in the classroom to verify your setup steps."
   ]
  },
  {
   "cell_type": "code",
   "execution_count": 3,
   "metadata": {},
   "outputs": [
    {
     "name": "stdout",
     "output_type": "stream",
     "text": [
      "[name: \"/cpu:0\"\n",
      "device_type: \"CPU\"\n",
      "memory_limit: 268435456\n",
      "locality {\n",
      "}\n",
      "incarnation: 14755164883800141478\n",
      ", name: \"/gpu:0\"\n",
      "device_type: \"GPU\"\n",
      "memory_limit: 357302272\n",
      "locality {\n",
      "  bus_id: 1\n",
      "}\n",
      "incarnation: 9647717029255385648\n",
      "physical_device_desc: \"device: 0, name: Tesla K80, pci bus id: 0000:00:04.0\"\n",
      "]\n"
     ]
    }
   ],
   "source": [
    "from tensorflow.python.client import device_lib\n",
    "print(device_lib.list_local_devices())"
   ]
  },
  {
   "cell_type": "markdown",
   "metadata": {},
   "source": [
    "## Dataset\n",
    "We begin by investigating the dataset that will be used to train and evaluate your pipeline.  The most common datasets used for machine translation are from [WMT](http://www.statmt.org/).  However, that will take a long time to train a neural network on.  We'll be using a dataset we created for this project that contains a small vocabulary.  You'll be able to train your model in a reasonable time with this dataset.\n",
    "### Load Data\n",
    "The data is located in `data/small_vocab_en` and `data/small_vocab_fr`. The `small_vocab_en` file contains English sentences with their French translations in the `small_vocab_fr` file. Load the English and French data from these files from running the cell below."
   ]
  },
  {
   "cell_type": "code",
   "execution_count": 4,
   "metadata": {},
   "outputs": [
    {
     "name": "stdout",
     "output_type": "stream",
     "text": [
      "Dataset Loaded\n"
     ]
    }
   ],
   "source": [
    "# Load English data\n",
    "english_sentences = helper.load_data('data/small_vocab_en')\n",
    "# Load French data\n",
    "french_sentences = helper.load_data('data/small_vocab_fr')\n",
    "\n",
    "print('Dataset Loaded')"
   ]
  },
  {
   "cell_type": "code",
   "execution_count": 6,
   "metadata": {},
   "outputs": [
    {
     "data": {
      "text/plain": [
       "['new jersey is sometimes quiet during autumn , and it is snowy in april .',\n",
       " 'the united states is usually chilly during july , and it is usually freezing in november .',\n",
       " 'california is usually quiet during march , and it is usually hot in june .',\n",
       " 'the united states is sometimes mild during june , and it is cold in september .',\n",
       " 'your least liked fruit is the grape , but my least liked is the apple .']"
      ]
     },
     "execution_count": 6,
     "metadata": {},
     "output_type": "execute_result"
    }
   ],
   "source": [
    "english_sentences[0:5]"
   ]
  },
  {
   "cell_type": "code",
   "execution_count": 7,
   "metadata": {},
   "outputs": [
    {
     "data": {
      "text/plain": [
       "[\"new jersey est parfois calme pendant l' automne , et il est neigeux en avril .\",\n",
       " 'les états-unis est généralement froid en juillet , et il gèle habituellement en novembre .',\n",
       " 'california est généralement calme en mars , et il est généralement chaud en juin .',\n",
       " 'les états-unis est parfois légère en juin , et il fait froid en septembre .',\n",
       " 'votre moins aimé fruit est le raisin , mais mon moins aimé est la pomme .']"
      ]
     },
     "execution_count": 7,
     "metadata": {},
     "output_type": "execute_result"
    }
   ],
   "source": [
    "french_sentences[0:5]"
   ]
  },
  {
   "cell_type": "code",
   "execution_count": 10,
   "metadata": {},
   "outputs": [],
   "source": [
    "#https://shuaiw.github.io/2016/12/22/topic-modeling-and-tsne-visualzation.html"
   ]
  },
  {
   "cell_type": "markdown",
   "metadata": {},
   "source": [
    "### Files\n",
    "Each line in `small_vocab_en` contains an English sentence with the respective translation in each line of `small_vocab_fr`.  View the first two lines from each file."
   ]
  },
  {
   "cell_type": "code",
   "execution_count": 8,
   "metadata": {},
   "outputs": [
    {
     "name": "stdout",
     "output_type": "stream",
     "text": [
      "small_vocab_en Line 1:  new jersey is sometimes quiet during autumn , and it is snowy in april .\n",
      "small_vocab_fr Line 1:  new jersey est parfois calme pendant l' automne , et il est neigeux en avril .\n",
      "small_vocab_en Line 2:  the united states is usually chilly during july , and it is usually freezing in november .\n",
      "small_vocab_fr Line 2:  les états-unis est généralement froid en juillet , et il gèle habituellement en novembre .\n",
      "small_vocab_en Line 3:  california is usually quiet during march , and it is usually hot in june .\n",
      "small_vocab_fr Line 3:  california est généralement calme en mars , et il est généralement chaud en juin .\n",
      "small_vocab_en Line 4:  the united states is sometimes mild during june , and it is cold in september .\n",
      "small_vocab_fr Line 4:  les états-unis est parfois légère en juin , et il fait froid en septembre .\n",
      "small_vocab_en Line 5:  your least liked fruit is the grape , but my least liked is the apple .\n",
      "small_vocab_fr Line 5:  votre moins aimé fruit est le raisin , mais mon moins aimé est la pomme .\n"
     ]
    }
   ],
   "source": [
    "for sample_i in range(5):\n",
    "    print('small_vocab_en Line {}:  {}'.format(sample_i + 1, english_sentences[sample_i]))\n",
    "    print('small_vocab_fr Line {}:  {}'.format(sample_i + 1, french_sentences[sample_i]))"
   ]
  },
  {
   "cell_type": "markdown",
   "metadata": {},
   "source": [
    "From looking at the sentences, you can see they have been preprocessed already.  The puncuations have been delimited using spaces. All the text have been converted to lowercase.  This should save you some time, but the text requires more preprocessing.\n",
    "### Vocabulary\n",
    "The complexity of the problem is determined by the complexity of the vocabulary.  A more complex vocabulary is a more complex problem.  Let's look at the complexity of the dataset we'll be working with."
   ]
  },
  {
   "cell_type": "code",
   "execution_count": 9,
   "metadata": {},
   "outputs": [
    {
     "name": "stdout",
     "output_type": "stream",
     "text": [
      "1823250 English words.\n",
      "227 unique English words.\n",
      "10 Most common words in the English dataset:\n",
      "\"is\" \",\" \".\" \"in\" \"it\" \"during\" \"the\" \"but\" \"and\" \"sometimes\"\n",
      "\n",
      "1961295 French words.\n",
      "355 unique French words.\n",
      "10 Most common words in the French dataset:\n",
      "\"est\" \".\" \",\" \"en\" \"il\" \"les\" \"mais\" \"et\" \"la\" \"parfois\"\n"
     ]
    }
   ],
   "source": [
    "english_words_counter = collections.Counter([word for sentence in english_sentences for word in sentence.split()])\n",
    "french_words_counter = collections.Counter([word for sentence in french_sentences for word in sentence.split()])\n",
    "\n",
    "print('{} English words.'.format(len([word for sentence in english_sentences for word in sentence.split()])))\n",
    "print('{} unique English words.'.format(len(english_words_counter)))\n",
    "print('10 Most common words in the English dataset:')\n",
    "print('\"' + '\" \"'.join(list(zip(*english_words_counter.most_common(10)))[0]) + '\"')\n",
    "print()\n",
    "print('{} French words.'.format(len([word for sentence in french_sentences for word in sentence.split()])))\n",
    "print('{} unique French words.'.format(len(french_words_counter)))\n",
    "print('10 Most common words in the French dataset:')\n",
    "print('\"' + '\" \"'.join(list(zip(*french_words_counter.most_common(10)))[0]) + '\"')"
   ]
  },
  {
   "cell_type": "markdown",
   "metadata": {},
   "source": [
    "For comparison, _Alice's Adventures in Wonderland_ contains 2,766 unique words of a total of 15,500 words.\n",
    "## Preprocess\n",
    "For this project, you won't use text data as input to your model. Instead, you'll convert the text into sequences of integers using the following preprocess methods:\n",
    "1. Tokenize the words into ids\n",
    "2. Add padding to make all the sequences the same length.\n",
    "\n",
    "Time to start preprocessing the data...\n",
    "### Tokenize (IMPLEMENTATION)\n",
    "For a neural network to predict on text data, it first has to be turned into data it can understand. Text data like \"dog\" is a sequence of ASCII character encodings.  Since a neural network is a series of multiplication and addition operations, the input data needs to be number(s).\n",
    "\n",
    "We can turn each character into a number or each word into a number.  These are called character and word ids, respectively.  Character ids are used for character level models that generate text predictions for each character.  A word level model uses word ids that generate text predictions for each word.  Word level models tend to learn better, since they are lower in complexity, so we'll use those.\n",
    "\n",
    "Turn each sentence into a sequence of words ids using Keras's [`Tokenizer`](https://keras.io/preprocessing/text/#tokenizer) function. Use this function to tokenize `english_sentences` and `french_sentences` in the cell below.\n",
    "\n",
    "Running the cell will run `tokenize` on sample data and show output for debugging."
   ]
  },
  {
   "cell_type": "code",
   "execution_count": 13,
   "metadata": {},
   "outputs": [
    {
     "name": "stdout",
     "output_type": "stream",
     "text": [
      "{'is': 1, 'during': 2, 'and': 3, 'it': 4, 'in': 5, 'the': 6, 'usually': 7, 'sometimes': 8, 'quiet': 9, 'united': 10, 'states': 11, 'june': 12, 'least': 13, 'liked': 14, 'new': 15, 'jersey': 16, 'autumn': 17, 'snowy': 18, 'april': 19, 'chilly': 20, 'july': 21, 'freezing': 22, 'november': 23, 'california': 24, 'march': 25, 'hot': 26, 'mild': 27, 'cold': 28, 'september': 29, 'your': 30, 'fruit': 31, 'grape': 32, 'but': 33, 'my': 34, 'apple': 35}\n",
      "\n",
      "Sequence 1 in x\n",
      "  Input:  new jersey is sometimes quiet during autumn , and it is snowy in april .\n",
      "  Output: [15, 16, 1, 8, 9, 2, 17, 3, 4, 1, 18, 5, 19]\n",
      "Sequence 2 in x\n",
      "  Input:  the united states is usually chilly during july , and it is usually freezing in november .\n",
      "  Output: [6, 10, 11, 1, 7, 20, 2, 21, 3, 4, 1, 7, 22, 5, 23]\n",
      "Sequence 3 in x\n",
      "  Input:  california is usually quiet during march , and it is usually hot in june .\n",
      "  Output: [24, 1, 7, 9, 2, 25, 3, 4, 1, 7, 26, 5, 12]\n",
      "Sequence 4 in x\n",
      "  Input:  the united states is sometimes mild during june , and it is cold in september .\n",
      "  Output: [6, 10, 11, 1, 8, 27, 2, 12, 3, 4, 1, 28, 5, 29]\n",
      "Sequence 5 in x\n",
      "  Input:  your least liked fruit is the grape , but my least liked is the apple .\n",
      "  Output: [30, 13, 14, 31, 1, 6, 32, 33, 34, 13, 14, 1, 6, 35]\n"
     ]
    }
   ],
   "source": [
    "def tokenize(x):\n",
    "    \"\"\"\n",
    "    Tokenize x\n",
    "    :param x: List of sentences/strings to be tokenized\n",
    "    :return: Tuple of (tokenized x data, tokenizer used to tokenize x)\n",
    "    \"\"\"\n",
    "    # TODO: Implement\n",
    "    # TODO: Implement\n",
    "    x_tk = Tokenizer(char_level=False)\n",
    "    x_tk.fit_on_texts(x)\n",
    "\n",
    "    return x_tk.texts_to_sequences(x), x_tk\n",
    "    #return None, None\n",
    "tests.test_tokenize(tokenize)\n",
    "\n",
    "# Tokenize Example output\n",
    "#text_sentences = [\n",
    "    #'The quick brown fox jumps over the lazy dog .',\n",
    "    #'By Jove , my quick study of lexicography won a prize .',\n",
    "    #'This is a short sentence .']\n",
    "text_sentences = english_sentences[0:5]\n",
    "text_tokenized, text_tokenizer = tokenize(text_sentences)\n",
    "print(text_tokenizer.word_index)\n",
    "print()\n",
    "for sample_i, (sent, token_sent) in enumerate(zip(text_sentences, text_tokenized)):\n",
    "    print('Sequence {} in x'.format(sample_i + 1))\n",
    "    print('  Input:  {}'.format(sent))\n",
    "    print('  Output: {}'.format(token_sent))"
   ]
  },
  {
   "cell_type": "markdown",
   "metadata": {},
   "source": [
    "### Padding (IMPLEMENTATION)\n",
    "When batching the sequence of word ids together, each sequence needs to be the same length.  Since sentences are dynamic in length, we can add padding to the end of the sequences to make them the same length.\n",
    "\n",
    "Make sure all the English sequences have the same length and all the French sequences have the same length by adding padding to the **end** of each sequence using Keras's [`pad_sequences`](https://keras.io/preprocessing/sequence/#pad_sequences) function."
   ]
  },
  {
   "cell_type": "code",
   "execution_count": 14,
   "metadata": {},
   "outputs": [
    {
     "name": "stdout",
     "output_type": "stream",
     "text": [
      "Sequence 1 in x\n",
      "  Input:  [15 16  1  8  9  2 17  3  4  1 18  5 19]\n",
      "  Output: [15 16  1  8  9  2 17  3  4  1 18  5 19  0  0]\n",
      "Sequence 2 in x\n",
      "  Input:  [ 6 10 11  1  7 20  2 21  3  4  1  7 22  5 23]\n",
      "  Output: [ 6 10 11  1  7 20  2 21  3  4  1  7 22  5 23]\n",
      "Sequence 3 in x\n",
      "  Input:  [24  1  7  9  2 25  3  4  1  7 26  5 12]\n",
      "  Output: [24  1  7  9  2 25  3  4  1  7 26  5 12  0  0]\n",
      "Sequence 4 in x\n",
      "  Input:  [ 6 10 11  1  8 27  2 12  3  4  1 28  5 29]\n",
      "  Output: [ 6 10 11  1  8 27  2 12  3  4  1 28  5 29  0]\n",
      "Sequence 5 in x\n",
      "  Input:  [30 13 14 31  1  6 32 33 34 13 14  1  6 35]\n",
      "  Output: [30 13 14 31  1  6 32 33 34 13 14  1  6 35  0]\n"
     ]
    }
   ],
   "source": [
    "def pad(x, length=None):\n",
    "    \"\"\"\n",
    "    Pad x\n",
    "    :param x: List of sequences.\n",
    "    :param length: Length to pad the sequence to.  If None, use length of longest sequence in x.\n",
    "    :return: Padded numpy array of sequences\n",
    "    \"\"\"\n",
    "    # TODO: Implement\n",
    "    if length is None:\n",
    "        length = max([len(sentence) for sentence in x])\n",
    "    return pad_sequences(x, maxlen=length, padding='post')\n",
    "    #return None\n",
    "tests.test_pad(pad)\n",
    "\n",
    "# Pad Tokenized output\n",
    "test_pad = pad(text_tokenized)\n",
    "for sample_i, (token_sent, pad_sent) in enumerate(zip(text_tokenized, test_pad)):\n",
    "    print('Sequence {} in x'.format(sample_i + 1))\n",
    "    print('  Input:  {}'.format(np.array(token_sent)))\n",
    "    print('  Output: {}'.format(pad_sent))"
   ]
  },
  {
   "cell_type": "markdown",
   "metadata": {},
   "source": [
    "### Preprocess Pipeline\n",
    "Your focus for this project is to build neural network architecture, so we won't ask you to create a preprocess pipeline.  Instead, we've provided you with the implementation of the `preprocess` function."
   ]
  },
  {
   "cell_type": "code",
   "execution_count": 15,
   "metadata": {},
   "outputs": [
    {
     "name": "stdout",
     "output_type": "stream",
     "text": [
      "Data Preprocessed\n",
      "Max English sentence length: 15\n",
      "Max French sentence length: 21\n",
      "English vocabulary size: 199\n",
      "French vocabulary size: 344\n"
     ]
    }
   ],
   "source": [
    "def preprocess(x, y):\n",
    "    \"\"\"\n",
    "    Preprocess x and y\n",
    "    :param x: Feature List of sentences\n",
    "    :param y: Label List of sentences\n",
    "    :return: Tuple of (Preprocessed x, Preprocessed y, x tokenizer, y tokenizer)\n",
    "    \"\"\"\n",
    "    preprocess_x, x_tk = tokenize(x)\n",
    "    preprocess_y, y_tk = tokenize(y)\n",
    "\n",
    "    preprocess_x = pad(preprocess_x)\n",
    "    preprocess_y = pad(preprocess_y)\n",
    "\n",
    "    # Keras's sparse_categorical_crossentropy function requires the labels to be in 3 dimensions\n",
    "    preprocess_y = preprocess_y.reshape(*preprocess_y.shape, 1)\n",
    "\n",
    "    return preprocess_x, preprocess_y, x_tk, y_tk\n",
    "\n",
    "preproc_english_sentences, preproc_french_sentences, english_tokenizer, french_tokenizer =\\\n",
    "    preprocess(english_sentences, french_sentences)\n",
    "    \n",
    "max_english_sequence_length = preproc_english_sentences.shape[1]\n",
    "max_french_sequence_length = preproc_french_sentences.shape[1]\n",
    "english_vocab_size = len(english_tokenizer.word_index)\n",
    "french_vocab_size = len(french_tokenizer.word_index)\n",
    "\n",
    "print('Data Preprocessed')\n",
    "print(\"Max English sentence length:\", max_english_sequence_length)\n",
    "print(\"Max French sentence length:\", max_french_sequence_length)\n",
    "print(\"English vocabulary size:\", english_vocab_size)\n",
    "print(\"French vocabulary size:\", french_vocab_size)"
   ]
  },
  {
   "cell_type": "code",
   "execution_count": 16,
   "metadata": {},
   "outputs": [
    {
     "data": {
      "text/plain": [
       "array([[17, 23,  1, ..., 44,  0,  0],\n",
       "       [ 5, 20, 21, ..., 51,  2, 45],\n",
       "       [22,  1,  9, ..., 34,  0,  0],\n",
       "       ..., \n",
       "       [24,  1, 10, ..., 54,  0,  0],\n",
       "       [ 5, 84,  1, ...,  0,  0,  0],\n",
       "       [ 0,  0,  0, ...,  0,  0,  0]], dtype=int32)"
      ]
     },
     "execution_count": 16,
     "metadata": {},
     "output_type": "execute_result"
    }
   ],
   "source": [
    "preproc_english_sentences"
   ]
  },
  {
   "cell_type": "code",
   "execution_count": 17,
   "metadata": {},
   "outputs": [
    {
     "data": {
      "text/plain": [
       "array([ 35,   4, 101, ...,   7,  84,   0], dtype=int32)"
      ]
     },
     "execution_count": 17,
     "metadata": {},
     "output_type": "execute_result"
    }
   ],
   "source": [
    "preproc_french_sentences[:,0,0]"
   ]
  },
  {
   "cell_type": "markdown",
   "metadata": {},
   "source": [
    "## Models\n",
    "In this section, you will experiment with various neural network architectures.\n",
    "You will begin by training four relatively simple architectures.\n",
    "- Model 1 is a simple RNN\n",
    "- Model 2 is a RNN with Embedding\n",
    "- Model 3 is a Bidirectional RNN\n",
    "- Model 4 is an optional Encoder-Decoder RNN\n",
    "\n",
    "After experimenting with the four simple architectures, you will construct a deeper architecture that is designed to outperform all four models.\n",
    "### Ids Back to Text\n",
    "The neural network will be translating the input to words ids, which isn't the final form we want.  We want the French translation.  The function `logits_to_text` will bridge the gab between the logits from the neural network to the French translation.  You'll be using this function to better understand the output of the neural network."
   ]
  },
  {
   "cell_type": "code",
   "execution_count": 12,
   "metadata": {},
   "outputs": [
    {
     "name": "stdout",
     "output_type": "stream",
     "text": [
      "`logits_to_text` function loaded.\n"
     ]
    }
   ],
   "source": [
    "def logits_to_text(logits, tokenizer):\n",
    "    \"\"\"\n",
    "    Turn logits from a neural network into text using the tokenizer\n",
    "    :param logits: Logits from a neural network\n",
    "    :param tokenizer: Keras Tokenizer fit on the labels\n",
    "    :return: String that represents the text of the logits\n",
    "    \"\"\"\n",
    "    index_to_words = {id: word for word, id in tokenizer.word_index.items()}\n",
    "    index_to_words[0] = '<PAD>'\n",
    "\n",
    "    return ' '.join([index_to_words[prediction] for prediction in np.argmax(logits, 1)])\n",
    "\n",
    "print('`logits_to_text` function loaded.')"
   ]
  },
  {
   "cell_type": "markdown",
   "metadata": {},
   "source": [
    "### Model 1: RNN (IMPLEMENTATION)\n",
    "![RNN](images/rnn.png)\n",
    "A basic RNN model is a good baseline for sequence data.  In this model, you'll build a RNN that translates English to French."
   ]
  },
  {
   "cell_type": "code",
   "execution_count": 13,
   "metadata": {},
   "outputs": [
    {
     "name": "stdout",
     "output_type": "stream",
     "text": [
      "_________________________________________________________________\n",
      "Layer (type)                 Output Shape              Param #   \n",
      "=================================================================\n",
      "input_1 (InputLayer)         (None, 21, 1)             0         \n",
      "_________________________________________________________________\n",
      "gru_1 (GRU)                  (None, 21, 64)            12672     \n",
      "_________________________________________________________________\n",
      "time_distributed_1 (TimeDist (None, 21, 344)           22360     \n",
      "_________________________________________________________________\n",
      "activation_1 (Activation)    (None, 21, 344)           0         \n",
      "=================================================================\n",
      "Total params: 35,032\n",
      "Trainable params: 35,032\n",
      "Non-trainable params: 0\n",
      "_________________________________________________________________\n",
      "_________________________________________________________________\n",
      "Layer (type)                 Output Shape              Param #   \n",
      "=================================================================\n",
      "input_2 (InputLayer)         (None, 21, 1)             0         \n",
      "_________________________________________________________________\n",
      "gru_2 (GRU)                  (None, 21, 64)            12672     \n",
      "_________________________________________________________________\n",
      "time_distributed_2 (TimeDist (None, 21, 344)           22360     \n",
      "_________________________________________________________________\n",
      "activation_2 (Activation)    (None, 21, 344)           0         \n",
      "=================================================================\n",
      "Total params: 35,032\n",
      "Trainable params: 35,032\n",
      "Non-trainable params: 0\n",
      "_________________________________________________________________\n",
      "Train on 110288 samples, validate on 27573 samples\n",
      "Epoch 1/30\n",
      "110288/110288 [==============================] - 28s 250us/step - loss: 2.1867 - acc: 0.5250 - val_loss: nan - val_acc: 0.5943\n",
      "Epoch 2/30\n",
      "110288/110288 [==============================] - 24s 221us/step - loss: 1.4916 - acc: 0.6094 - val_loss: nan - val_acc: 0.6240\n",
      "Epoch 3/30\n",
      "110288/110288 [==============================] - 25s 230us/step - loss: 1.3116 - acc: 0.6381 - val_loss: nan - val_acc: 0.6469\n",
      "Epoch 4/30\n",
      "110288/110288 [==============================] - 24s 218us/step - loss: 1.2128 - acc: 0.6508 - val_loss: nan - val_acc: 0.6543\n",
      "Epoch 5/30\n",
      "110288/110288 [==============================] - 25s 226us/step - loss: 1.1531 - acc: 0.6579 - val_loss: nan - val_acc: 0.6614\n",
      "Epoch 6/30\n",
      "110288/110288 [==============================] - 25s 227us/step - loss: 1.1131 - acc: 0.6627 - val_loss: nan - val_acc: 0.6637\n",
      "Epoch 7/30\n",
      "110288/110288 [==============================] - 25s 229us/step - loss: 1.0837 - acc: 0.6672 - val_loss: nan - val_acc: 0.6699\n",
      "Epoch 8/30\n",
      "110288/110288 [==============================] - 25s 229us/step - loss: 1.0608 - acc: 0.6723 - val_loss: nan - val_acc: 0.6732\n",
      "Epoch 9/30\n",
      "110288/110288 [==============================] - 25s 230us/step - loss: 1.0401 - acc: 0.6780 - val_loss: nan - val_acc: 0.6797\n",
      "Epoch 10/30\n",
      "110288/110288 [==============================] - 25s 231us/step - loss: 1.0207 - acc: 0.6846 - val_loss: nan - val_acc: 0.6915\n",
      "Epoch 11/30\n",
      "110288/110288 [==============================] - 25s 231us/step - loss: 1.0028 - acc: 0.6904 - val_loss: nan - val_acc: 0.6895\n",
      "Epoch 12/30\n",
      "110288/110288 [==============================] - 25s 229us/step - loss: 0.9845 - acc: 0.6967 - val_loss: nan - val_acc: 0.6964\n",
      "Epoch 13/30\n",
      "110288/110288 [==============================] - 25s 224us/step - loss: 0.9675 - acc: 0.7035 - val_loss: nan - val_acc: 0.7088\n",
      "Epoch 14/30\n",
      "110288/110288 [==============================] - 25s 230us/step - loss: 0.9516 - acc: 0.7098 - val_loss: nan - val_acc: 0.7140\n",
      "Epoch 15/30\n",
      "110288/110288 [==============================] - 25s 228us/step - loss: 0.9373 - acc: 0.7150 - val_loss: nan - val_acc: 0.7196\n",
      "Epoch 16/30\n",
      "110288/110288 [==============================] - 25s 226us/step - loss: 0.9245 - acc: 0.7194 - val_loss: nan - val_acc: 0.7216\n",
      "Epoch 17/30\n",
      "110288/110288 [==============================] - 25s 229us/step - loss: 0.9123 - acc: 0.7239 - val_loss: nan - val_acc: 0.7288\n",
      "Epoch 18/30\n",
      "110288/110288 [==============================] - 25s 227us/step - loss: 0.9024 - acc: 0.7264 - val_loss: nan - val_acc: 0.7239\n",
      "Epoch 19/30\n",
      "110288/110288 [==============================] - 25s 223us/step - loss: 0.8935 - acc: 0.7292 - val_loss: nan - val_acc: 0.7308\n",
      "Epoch 20/30\n",
      "110288/110288 [==============================] - 26s 232us/step - loss: 0.8854 - acc: 0.7314 - val_loss: nan - val_acc: 0.7328\n",
      "Epoch 21/30\n",
      "110288/110288 [==============================] - 26s 237us/step - loss: 0.8775 - acc: 0.7336 - val_loss: nan - val_acc: 0.7365\n",
      "Epoch 22/30\n",
      "110288/110288 [==============================] - 25s 231us/step - loss: 0.8701 - acc: 0.7359 - val_loss: nan - val_acc: 0.7377\n",
      "Epoch 23/30\n",
      "110288/110288 [==============================] - 25s 231us/step - loss: 0.8636 - acc: 0.7374 - val_loss: nan - val_acc: 0.7351\n",
      "Epoch 24/30\n",
      "110288/110288 [==============================] - 26s 236us/step - loss: 0.8562 - acc: 0.7392 - val_loss: nan - val_acc: 0.7371\n",
      "Epoch 25/30\n",
      "110288/110288 [==============================] - 25s 231us/step - loss: 0.8505 - acc: 0.7410 - val_loss: nan - val_acc: 0.7478\n",
      "Epoch 26/30\n",
      "110288/110288 [==============================] - 25s 231us/step - loss: 0.8447 - acc: 0.7429 - val_loss: nan - val_acc: 0.7435\n",
      "Epoch 27/30\n",
      "110288/110288 [==============================] - 25s 231us/step - loss: 0.8380 - acc: 0.7450 - val_loss: nan - val_acc: 0.7457\n",
      "Epoch 28/30\n",
      "110288/110288 [==============================] - 25s 229us/step - loss: 0.8326 - acc: 0.7464 - val_loss: nan - val_acc: 0.7452\n",
      "Epoch 29/30\n",
      "110288/110288 [==============================] - 25s 230us/step - loss: 0.8275 - acc: 0.7485 - val_loss: nan - val_acc: 0.7486\n",
      "Epoch 30/30\n",
      "110288/110288 [==============================] - 25s 230us/step - loss: 0.8216 - acc: 0.7503 - val_loss: nan - val_acc: 0.7505\n",
      "new jersey est parfois calme en mois de mai et et est en en <PAD> <PAD> <PAD> <PAD> <PAD> <PAD> <PAD>\n",
      "Train accuracy:  0.751061582209\n"
     ]
    }
   ],
   "source": [
    "def simple_model(input_shape, output_sequence_length, english_vocab_size, french_vocab_size):\n",
    "    \"\"\"\n",
    "    Build and train a basic RNN on x and y\n",
    "    :param input_shape: Tuple of input shape\n",
    "    :param output_sequence_length: Length of output sequence\n",
    "    :param english_vocab_size: Number of unique English words in the dataset\n",
    "    :param french_vocab_size: Number of unique French words in the dataset\n",
    "    :return: Keras model built, but not trained\n",
    "    \"\"\"\n",
    "    # TODO: Build the layers\n",
    "    #Functional API (same as example in the lecture notes)\n",
    "    learning_rate = 1e-3\n",
    "\n",
    "    input_seq = Input(input_shape[1:])\n",
    "    rnn = GRU(64, return_sequences=True)(input_seq)\n",
    "    logits = TimeDistributed(Dense(french_vocab_size))(rnn)\n",
    "    model = Model(input_seq, Activation('softmax')(logits))\n",
    "    model.summary()\n",
    "    model.compile(loss=sparse_categorical_crossentropy,\n",
    "                  optimizer=Adam(learning_rate),\n",
    "                  metrics=['accuracy'])\n",
    "    return model\n",
    "tests.test_simple_model(simple_model)\n",
    "\n",
    "# Reshaping the input to work with a basic RNN\n",
    "tmp_x = pad(preproc_english_sentences, max_french_sequence_length)\n",
    "tmp_x = tmp_x.reshape((-1, preproc_french_sentences.shape[-2], 1))\n",
    "\n",
    "# Train the neural network\n",
    "simple_rnn_model = simple_model(\n",
    "    tmp_x.shape,\n",
    "    max_french_sequence_length,\n",
    "    english_vocab_size,\n",
    "    french_vocab_size)\n",
    "# Set callback functions to early stop training and save the best model so far\n",
    "callbacks = [EarlyStopping(monitor='val_acc', min_delta=0.00001,patience = 5, mode='auto'),\n",
    "             ModelCheckpoint(filepath='simple_model.h5', monitor='val_acc', save_best_only=True)]\n",
    "history = simple_rnn_model.fit(tmp_x, preproc_french_sentences, batch_size=128,callbacks=callbacks, epochs=30, validation_split=0.2)\n",
    "\n",
    "# Print prediction(s)\n",
    "print(logits_to_text(simple_rnn_model.predict(tmp_x[:1])[0], french_tokenizer))\n",
    "#print score\n",
    "score = simple_rnn_model.evaluate(tmp_x, preproc_french_sentences, verbose=0)\n",
    "print(\"Train accuracy: \", score[1])"
   ]
  },
  {
   "cell_type": "code",
   "execution_count": 14,
   "metadata": {},
   "outputs": [
    {
     "data": {
      "image/png": "[encoded data removed]",
      "text/plain": [
       "<matplotlib.figure.Figure at 0x7ff5dcdeb390>"
      ]
     },
     "metadata": {},
     "output_type": "display_data"
    },
    {
     "data": {
      "image/png": "[encoded data removed]",
      "text/plain": [
       "<matplotlib.figure.Figure at 0x7ff5dc73f9e8>"
      ]
     },
     "metadata": {},
     "output_type": "display_data"
    }
   ],
   "source": [
    "acc = history.history['acc']\n",
    "val_acc = history.history['val_acc']\n",
    "loss = history.history['loss']\n",
    "val_loss = history.history['val_loss']\n",
    "\n",
    "epochs = range(1, len(acc) + 1)\n",
    "\n",
    "plt.plot(epochs, acc, 'bo', label='Training acc')\n",
    "plt.plot(epochs, val_acc, 'b', label='Validation acc')\n",
    "plt.title('Training and validation accuracy')\n",
    "plt.legend()\n",
    "\n",
    "plt.figure()\n",
    "\n",
    "plt.plot(epochs, loss, 'bo', label='Training loss')\n",
    "plt.plot(epochs, val_loss, 'b', label='Validation loss')\n",
    "plt.title('Training and validation loss')\n",
    "plt.legend()\n",
    "\n",
    "plt.show()"
   ]
  },
  {
   "cell_type": "markdown",
   "metadata": {},
   "source": [
    "### Model 2: Embedding (IMPLEMENTATION)\n",
    "![RNN](images/embedding.png)\n",
    "You've turned the words into ids, but there's a better representation of a word.  This is called word embeddings.  An embedding is a vector representation of the word that is close to similar words in n-dimensional space, where the n represents the size of the embedding vectors.\n",
    "\n",
    "In this model, you'll create a RNN model using embedding."
   ]
  },
  {
   "cell_type": "code",
   "execution_count": 15,
   "metadata": {},
   "outputs": [
    {
     "name": "stdout",
     "output_type": "stream",
     "text": [
      "_________________________________________________________________\n",
      "Layer (type)                 Output Shape              Param #   \n",
      "=================================================================\n",
      "embedding_1 (Embedding)      (None, 21, 128)           44032     \n",
      "_________________________________________________________________\n",
      "gru_3 (GRU)                  (None, 21, 128)           98688     \n",
      "_________________________________________________________________\n",
      "gru_4 (GRU)                  (None, 21, 64)            37056     \n",
      "_________________________________________________________________\n",
      "dense_3 (Dense)              (None, 21, 32)            2080      \n",
      "_________________________________________________________________\n",
      "dense_4 (Dense)              (None, 21, 344)           11352     \n",
      "=================================================================\n",
      "Total params: 193,208\n",
      "Trainable params: 193,208\n",
      "Non-trainable params: 0\n",
      "_________________________________________________________________\n",
      "_________________________________________________________________\n",
      "Layer (type)                 Output Shape              Param #   \n",
      "=================================================================\n",
      "embedding_2 (Embedding)      (None, 21, 128)           44032     \n",
      "_________________________________________________________________\n",
      "gru_5 (GRU)                  (None, 21, 128)           98688     \n",
      "_________________________________________________________________\n",
      "gru_6 (GRU)                  (None, 21, 64)            37056     \n",
      "_________________________________________________________________\n",
      "dense_5 (Dense)              (None, 21, 32)            2080      \n",
      "_________________________________________________________________\n",
      "dense_6 (Dense)              (None, 21, 344)           11352     \n",
      "=================================================================\n",
      "Total params: 193,208\n",
      "Trainable params: 193,208\n",
      "Non-trainable params: 0\n",
      "_________________________________________________________________\n",
      "Train on 110288 samples, validate on 27573 samples\n",
      "Epoch 1/30\n",
      "110288/110288 [==============================] - 61s 555us/step - loss: 1.9315 - acc: 0.5716 - val_loss: nan - val_acc: 0.7281\n",
      "Epoch 2/30\n",
      "110288/110288 [==============================] - 60s 542us/step - loss: 0.8009 - acc: 0.7816 - val_loss: nan - val_acc: 0.8453\n",
      "Epoch 3/30\n",
      "110288/110288 [==============================] - 60s 542us/step - loss: 0.5337 - acc: 0.8478 - val_loss: nan - val_acc: 0.8791\n",
      "Epoch 4/30\n",
      "110288/110288 [==============================] - 60s 542us/step - loss: 0.4306 - acc: 0.8714 - val_loss: nan - val_acc: 0.8943\n",
      "Epoch 5/30\n",
      "110288/110288 [==============================] - 60s 542us/step - loss: 0.3767 - acc: 0.8849 - val_loss: nan - val_acc: 0.9046\n",
      "Epoch 6/30\n",
      "110288/110288 [==============================] - 60s 547us/step - loss: 0.3430 - acc: 0.8935 - val_loss: nan - val_acc: 0.9116\n",
      "Epoch 7/30\n",
      "110288/110288 [==============================] - 60s 546us/step - loss: 0.3176 - acc: 0.9002 - val_loss: nan - val_acc: 0.9164\n",
      "Epoch 8/30\n",
      "110288/110288 [==============================] - 60s 546us/step - loss: 0.3005 - acc: 0.9050 - val_loss: nan - val_acc: 0.9201\n",
      "Epoch 9/30\n",
      "110288/110288 [==============================] - 60s 546us/step - loss: 0.2867 - acc: 0.9083 - val_loss: nan - val_acc: 0.9232\n",
      "Epoch 10/30\n",
      "110288/110288 [==============================] - 60s 547us/step - loss: 0.2751 - acc: 0.9118 - val_loss: nan - val_acc: 0.9248\n",
      "Epoch 11/30\n",
      "110288/110288 [==============================] - 62s 567us/step - loss: 0.2668 - acc: 0.9139 - val_loss: nan - val_acc: 0.9268\n",
      "Epoch 12/30\n",
      "110288/110288 [==============================] - 61s 551us/step - loss: 0.2597 - acc: 0.9156 - val_loss: nan - val_acc: 0.9274\n",
      "Epoch 13/30\n",
      "110288/110288 [==============================] - 60s 545us/step - loss: 0.2534 - acc: 0.9175 - val_loss: nan - val_acc: 0.9288\n",
      "Epoch 14/30\n",
      "110288/110288 [==============================] - 60s 545us/step - loss: 0.2480 - acc: 0.9188 - val_loss: nan - val_acc: 0.9296\n",
      "Epoch 15/30\n",
      "110288/110288 [==============================] - 60s 545us/step - loss: 0.2439 - acc: 0.9197 - val_loss: nan - val_acc: 0.9312\n",
      "Epoch 16/30\n",
      "110288/110288 [==============================] - 60s 548us/step - loss: 0.2405 - acc: 0.9208 - val_loss: nan - val_acc: 0.9318\n",
      "Epoch 17/30\n",
      "110288/110288 [==============================] - 60s 543us/step - loss: 0.2370 - acc: 0.9217 - val_loss: nan - val_acc: 0.9321\n",
      "Epoch 18/30\n",
      "110288/110288 [==============================] - 60s 544us/step - loss: 0.2343 - acc: 0.9224 - val_loss: nan - val_acc: 0.9324\n",
      "Epoch 19/30\n",
      "110288/110288 [==============================] - 59s 537us/step - loss: 0.2304 - acc: 0.9233 - val_loss: nan - val_acc: 0.9324\n",
      "Epoch 20/30\n",
      "110288/110288 [==============================] - 60s 543us/step - loss: 0.2288 - acc: 0.9239 - val_loss: nan - val_acc: 0.9331\n",
      "Epoch 21/30\n",
      "110288/110288 [==============================] - 60s 546us/step - loss: 0.2258 - acc: 0.9248 - val_loss: nan - val_acc: 0.9333\n",
      "Epoch 22/30\n",
      "110288/110288 [==============================] - 60s 543us/step - loss: 0.2247 - acc: 0.9251 - val_loss: nan - val_acc: 0.9330\n",
      "Epoch 23/30\n",
      "110288/110288 [==============================] - 60s 545us/step - loss: 0.2226 - acc: 0.9254 - val_loss: nan - val_acc: 0.9335\n",
      "Epoch 24/30\n",
      "110288/110288 [==============================] - 61s 552us/step - loss: 0.2215 - acc: 0.9256 - val_loss: nan - val_acc: 0.9338\n",
      "Epoch 25/30\n",
      "110288/110288 [==============================] - 62s 558us/step - loss: 0.2189 - acc: 0.9262 - val_loss: nan - val_acc: 0.9339\n",
      "Epoch 26/30\n",
      "110288/110288 [==============================] - 61s 556us/step - loss: 0.2173 - acc: 0.9267 - val_loss: nan - val_acc: 0.9347\n",
      "Epoch 27/30\n",
      "110288/110288 [==============================] - 61s 555us/step - loss: 0.2166 - acc: 0.9270 - val_loss: nan - val_acc: 0.9346\n",
      "Epoch 28/30\n",
      "110288/110288 [==============================] - 60s 548us/step - loss: 0.2156 - acc: 0.9272 - val_loss: nan - val_acc: 0.9350\n",
      "Epoch 29/30\n",
      "110288/110288 [==============================] - 62s 563us/step - loss: 0.2149 - acc: 0.9274 - val_loss: nan - val_acc: 0.9351\n",
      "Epoch 30/30\n",
      "110288/110288 [==============================] - 61s 556us/step - loss: 0.2131 - acc: 0.9279 - val_loss: nan - val_acc: 0.9358\n",
      "new jersey est parfois calme en l' automne et il est neigeux en avril <PAD> <PAD> <PAD> <PAD> <PAD> <PAD> <PAD>\n",
      "Train accuracy:  0.937967240754\n"
     ]
    }
   ],
   "source": [
    "def embed_model(input_shape, output_sequence_length, english_vocab_size, french_vocab_size):\n",
    "    \"\"\"\n",
    "    Build and train a RNN model using word embedding on x and y\n",
    "    :param input_shape: Tuple of input shape\n",
    "    :param output_sequence_length: Length of output sequence\n",
    "    :param english_vocab_size: Number of unique English words in the dataset\n",
    "    :param french_vocab_size: Number of unique French words in the dataset\n",
    "    :return: Keras model built, but not trained\n",
    "    \"\"\"\n",
    "    # TODO: Implement\n",
    "    learning_rate = 1e-3\n",
    "    model = Sequential()\n",
    "    model.add(Embedding(max(english_vocab_size, french_vocab_size) ,128 , input_length=output_sequence_length))   \n",
    "    model.add(GRU(128, dropout=0.1,recurrent_dropout = 0.5, return_sequences=True))\n",
    "    model.add(GRU(64, dropout=0.1,recurrent_dropout = 0.5, return_sequences=True))\n",
    "    model.add(Dense(32, activation='relu'))\n",
    "    model.add(Dense(french_vocab_size, activation='softmax'))\n",
    "    \n",
    "    model.summary()\n",
    "    \n",
    "    model.compile(loss=sparse_categorical_crossentropy,\n",
    "                  optimizer=Adam(learning_rate),\n",
    "                  metrics=['accuracy'])\n",
    "    \n",
    "    return model\n",
    "tests.test_embed_model(embed_model)\n",
    "\n",
    "\n",
    "# TODO: Reshape the input\n",
    "tmp_x = pad(preproc_english_sentences, preproc_french_sentences.shape[1])\n",
    "\n",
    "# TODO: Train the neural network\n",
    "embed_rnn_model = embed_model(\n",
    "    tmp_x.shape,\n",
    "    max_french_sequence_length,\n",
    "    english_vocab_size,\n",
    "    french_vocab_size)\n",
    "# Set callback functions to early stop training and save the best model so far\n",
    "callbacks = [EarlyStopping(monitor='val_acc', min_delta=0.00001,patience = 5, mode='auto'),\n",
    "             ModelCheckpoint(filepath='embed_model.h5', monitor='val_acc', save_best_only=True)]\n",
    "history = embed_rnn_model.fit(tmp_x, preproc_french_sentences, batch_size=128,callbacks=callbacks, epochs=30, validation_split=0.2)\n",
    "\n",
    "# Print prediction(s)\n",
    "print(logits_to_text(embed_rnn_model.predict(tmp_x[:1])[0], french_tokenizer))\n",
    "\n",
    "#print score\n",
    "score = embed_rnn_model.evaluate(tmp_x, preproc_french_sentences, verbose=0)\n",
    "print(\"Train accuracy: \", score[1])"
   ]
  },
  {
   "cell_type": "code",
   "execution_count": 16,
   "metadata": {},
   "outputs": [
    {
     "data": {
      "image/png": "[encoded data removed]",
      "text/plain": [
       "<matplotlib.figure.Figure at 0x7ff5dc6f75f8>"
      ]
     },
     "metadata": {},
     "output_type": "display_data"
    },
    {
     "data": {
      "image/png": "[encoded data removed]",
      "text/plain": [
       "<matplotlib.figure.Figure at 0x7ff5d8fb5588>"
      ]
     },
     "metadata": {},
     "output_type": "display_data"
    }
   ],
   "source": [
    "acc = history.history['acc']\n",
    "val_acc = history.history['val_acc']\n",
    "loss = history.history['loss']\n",
    "val_loss = history.history['val_loss']\n",
    "\n",
    "epochs = range(1, len(acc) + 1)\n",
    "\n",
    "plt.plot(epochs, acc, 'bo', label='Training acc')\n",
    "plt.plot(epochs, val_acc, 'b', label='Validation acc')\n",
    "plt.title('Training and validation accuracy')\n",
    "plt.legend()\n",
    "\n",
    "plt.figure()\n",
    "\n",
    "plt.plot(epochs, loss, 'bo', label='Training loss')\n",
    "plt.plot(epochs, val_loss, 'b', label='Validation loss')\n",
    "plt.title('Training and validation loss')\n",
    "plt.legend()\n",
    "\n",
    "plt.show()"
   ]
  },
  {
   "cell_type": "markdown",
   "metadata": {},
   "source": [
    "### Model 3: Bidirectional RNNs (IMPLEMENTATION)\n",
    "![RNN](images/bidirectional.png)\n",
    "One restriction of a RNN is that it can't see the future input, only the past.  This is where bidirectional recurrent neural networks come in.  They are able to see the future data."
   ]
  },
  {
   "cell_type": "code",
   "execution_count": 17,
   "metadata": {},
   "outputs": [
    {
     "name": "stdout",
     "output_type": "stream",
     "text": [
      "_________________________________________________________________\n",
      "Layer (type)                 Output Shape              Param #   \n",
      "=================================================================\n",
      "bidirectional_1 (Bidirection (None, 21, 256)           99840     \n",
      "_________________________________________________________________\n",
      "bidirectional_2 (Bidirection (None, 21, 128)           123264    \n",
      "_________________________________________________________________\n",
      "bidirectional_3 (Bidirection (None, 21, 256)           263168    \n",
      "_________________________________________________________________\n",
      "dense_7 (Dense)              (None, 21, 32)            8224      \n",
      "_________________________________________________________________\n",
      "time_distributed_3 (TimeDist (None, 21, 344)           11352     \n",
      "=================================================================\n",
      "Total params: 505,848\n",
      "Trainable params: 505,848\n",
      "Non-trainable params: 0\n",
      "_________________________________________________________________\n",
      "_________________________________________________________________\n",
      "Layer (type)                 Output Shape              Param #   \n",
      "=================================================================\n",
      "bidirectional_4 (Bidirection (None, 21, 256)           99840     \n",
      "_________________________________________________________________\n",
      "bidirectional_5 (Bidirection (None, 21, 128)           123264    \n",
      "_________________________________________________________________\n",
      "bidirectional_6 (Bidirection (None, 21, 256)           263168    \n",
      "_________________________________________________________________\n",
      "dense_9 (Dense)              (None, 21, 32)            8224      \n",
      "_________________________________________________________________\n",
      "time_distributed_4 (TimeDist (None, 21, 344)           11352     \n",
      "=================================================================\n",
      "Total params: 505,848\n",
      "Trainable params: 505,848\n",
      "Non-trainable params: 0\n",
      "_________________________________________________________________\n",
      "Train on 110288 samples, validate on 27573 samples\n",
      "Epoch 1/30\n",
      "110288/110288 [==============================] - 165s 1ms/step - loss: 1.5289 - acc: 0.6098 - val_loss: nan - val_acc: 0.6307\n",
      "Epoch 2/30\n",
      "110288/110288 [==============================] - 164s 1ms/step - loss: 1.0181 - acc: 0.6914 - val_loss: nan - val_acc: 0.6165\n",
      "Epoch 3/30\n",
      "110288/110288 [==============================] - 164s 1ms/step - loss: 0.8631 - acc: 0.7218 - val_loss: nan - val_acc: 0.5962\n",
      "Epoch 4/30\n",
      "110288/110288 [==============================] - 162s 1ms/step - loss: 0.7962 - acc: 0.7362 - val_loss: nan - val_acc: 0.5905\n",
      "Epoch 5/30\n",
      "110288/110288 [==============================] - 162s 1ms/step - loss: 0.7128 - acc: 0.7592 - val_loss: nan - val_acc: 0.5673\n",
      "Epoch 6/30\n",
      "110288/110288 [==============================] - 163s 1ms/step - loss: 0.6634 - acc: 0.7743 - val_loss: nan - val_acc: 0.5563\n",
      "new jersey est parfois occupé au printemps mais il gèle agréable en mai <PAD> <PAD> <PAD> <PAD> <PAD> <PAD> <PAD> <PAD>\n",
      "Train accuracy:  0.555762026207\n"
     ]
    }
   ],
   "source": [
    "\n",
    "def bd_model(input_shape, output_sequence_length, english_vocab_size, french_vocab_size):\n",
    "    \"\"\"\n",
    "    Build and train a bidirectional RNN model on x and y\n",
    "    :param input_shape: Tuple of input shape\n",
    "    :param output_sequence_length: Length of output sequence\n",
    "    :param english_vocab_size: Number of unique English words in the dataset\n",
    "    :param french_vocab_size: Number of unique French words in the dataset\n",
    "    :return: Keras model built, but not trained\n",
    "    \"\"\"\n",
    "    # TODO: Implement\n",
    "    #print(\"shape: \", input_shape[1:])\n",
    "    learning_rate = 1e-3\n",
    "    model = Sequential()\n",
    "    model.add(Bidirectional(GRU(128, return_sequences=True, dropout=0.1),\n",
    "                        input_shape=input_shape[1:]))\n",
    "    model.add(Bidirectional(GRU(64,activation ='relu', dropout=0.1,recurrent_dropout = 0.5, return_sequences=True)))\n",
    "    model.add(Bidirectional(LSTM(128,activation = 'relu', dropout=0.1, return_sequences=True)))\n",
    "    model.add(Dense(32, activation='relu'))    \n",
    "    model.add(TimeDistributed(Dense(french_vocab_size, activation='softmax') ))\n",
    "    \n",
    "    \n",
    "    model.summary()\n",
    "    \n",
    "    model.compile(loss=sparse_categorical_crossentropy,\n",
    "                  optimizer=Adam(learning_rate),\n",
    "                  metrics=['accuracy'])\n",
    "    \n",
    "    return model\n",
    "    \n",
    "tests.test_bd_model(bd_model)\n",
    "\n",
    "\n",
    "# TODO: Reshaping the input to work with a basic RNN\n",
    "tmp_x = pad(preproc_english_sentences, preproc_french_sentences.shape[1])\n",
    "tmp_x = tmp_x.reshape((-1, preproc_french_sentences.shape[-2], 1))\n",
    "\n",
    "# TODO: Train and Print prediction(s)\n",
    "bd_rnn_model = bd_model(\n",
    "    tmp_x.shape,\n",
    "    max_french_sequence_length,\n",
    "    english_vocab_size,\n",
    "    french_vocab_size)\n",
    "# Set callback functions to early stop training and save the best model so far\n",
    "callbacks = [EarlyStopping(monitor='val_acc', min_delta=0.00001,patience = 5, mode='auto'),\n",
    "             ModelCheckpoint(filepath='bd_rnn_model.h5', monitor='val_acc', save_best_only=True)]\n",
    "history = bd_rnn_model.fit(tmp_x, preproc_french_sentences, batch_size=128,callbacks = callbacks, epochs=30, validation_split=0.2)\n",
    "# Print prediction(s)\n",
    "print(logits_to_text(bd_rnn_model.predict(tmp_x[:1])[0], french_tokenizer))\n",
    "#print score\n",
    "score = bd_rnn_model.evaluate(tmp_x, preproc_french_sentences, verbose=0)\n",
    "print(\"Train accuracy: \", score[1])\n",
    "\n",
    "# TODO: Train and Print prediction(s)\n"
   ]
  },
  {
   "cell_type": "code",
   "execution_count": 18,
   "metadata": {},
   "outputs": [
    {
     "data": {
      "image/png": "[encoded data removed]",
      "text/plain": [
       "<matplotlib.figure.Figure at 0x7ff5d8f1e7b8>"
      ]
     },
     "metadata": {},
     "output_type": "display_data"
    },
    {
     "data": {
      "image/png": "[encoded data removed]",
      "text/plain": [
       "<matplotlib.figure.Figure at 0x7ff5b2041908>"
      ]
     },
     "metadata": {},
     "output_type": "display_data"
    }
   ],
   "source": [
    "acc = history.history['acc']\n",
    "val_acc = history.history['val_acc']\n",
    "loss = history.history['loss']\n",
    "val_loss = history.history['val_loss']\n",
    "\n",
    "epochs = range(1, len(acc) + 1)\n",
    "\n",
    "plt.plot(epochs, acc, 'bo', label='Training acc')\n",
    "plt.plot(epochs, val_acc, 'b', label='Validation acc')\n",
    "plt.title('Training and validation accuracy')\n",
    "plt.legend()\n",
    "\n",
    "plt.figure()\n",
    "\n",
    "plt.plot(epochs, loss, 'bo', label='Training loss')\n",
    "plt.plot(epochs, val_loss, 'b', label='Validation loss')\n",
    "plt.title('Training and validation loss')\n",
    "plt.legend()\n",
    "\n",
    "plt.show()"
   ]
  },
  {
   "cell_type": "markdown",
   "metadata": {},
   "source": [
    "### Model 4: Encoder-Decoder (OPTIONAL)\n",
    "Time to look at encoder-decoder models.  This model is made up of an encoder and decoder. The encoder creates a matrix representation of the sentence.  The decoder takes this matrix as input and predicts the translation as output.\n",
    "\n",
    "Create an encoder-decoder model in the cell below."
   ]
  },
  {
   "cell_type": "code",
   "execution_count": 19,
   "metadata": {},
   "outputs": [
    {
     "name": "stdout",
     "output_type": "stream",
     "text": [
      "_________________________________________________________________\n",
      "Layer (type)                 Output Shape              Param #   \n",
      "=================================================================\n",
      "gru_11 (GRU)                 (None, 128)               49920     \n",
      "_________________________________________________________________\n",
      "repeat_vector_1 (RepeatVecto (None, 21, 128)           0         \n",
      "_________________________________________________________________\n",
      "gru_12 (GRU)                 (None, 21, 128)           98688     \n",
      "_________________________________________________________________\n",
      "time_distributed_5 (TimeDist (None, 21, 256)           33024     \n",
      "_________________________________________________________________\n",
      "time_distributed_6 (TimeDist (None, 21, 344)           88408     \n",
      "=================================================================\n",
      "Total params: 270,040\n",
      "Trainable params: 270,040\n",
      "Non-trainable params: 0\n",
      "_________________________________________________________________\n",
      "input shape:  (137861, 15, 1)\n",
      "_________________________________________________________________\n",
      "Layer (type)                 Output Shape              Param #   \n",
      "=================================================================\n",
      "gru_13 (GRU)                 (None, 128)               49920     \n",
      "_________________________________________________________________\n",
      "repeat_vector_2 (RepeatVecto (None, 21, 128)           0         \n",
      "_________________________________________________________________\n",
      "gru_14 (GRU)                 (None, 21, 128)           98688     \n",
      "_________________________________________________________________\n",
      "time_distributed_7 (TimeDist (None, 21, 256)           33024     \n",
      "_________________________________________________________________\n",
      "time_distributed_8 (TimeDist (None, 21, 344)           88408     \n",
      "=================================================================\n",
      "Total params: 270,040\n",
      "Trainable params: 270,040\n",
      "Non-trainable params: 0\n",
      "_________________________________________________________________\n",
      "Train on 110288 samples, validate on 27573 samples\n",
      "Epoch 1/30\n",
      "110288/110288 [==============================] - 54s 489us/step - loss: 1.9449 - acc: 0.5393 - val_loss: nan - val_acc: 0.5962\n",
      "Epoch 2/30\n",
      "110288/110288 [==============================] - 52s 468us/step - loss: 1.4150 - acc: 0.6060 - val_loss: nan - val_acc: 0.6279\n",
      "Epoch 3/30\n",
      "110288/110288 [==============================] - 50s 452us/step - loss: 1.3073 - acc: 0.6267 - val_loss: nan - val_acc: 0.6328\n",
      "Epoch 4/30\n",
      "110288/110288 [==============================] - 52s 468us/step - loss: 1.2516 - acc: 0.6394 - val_loss: nan - val_acc: 0.6381\n",
      "Epoch 5/30\n",
      "110288/110288 [==============================] - 52s 468us/step - loss: 1.2187 - acc: 0.6473 - val_loss: nan - val_acc: 0.6385\n",
      "Epoch 6/30\n",
      "110288/110288 [==============================] - 50s 455us/step - loss: 1.1864 - acc: 0.6565 - val_loss: nan - val_acc: 0.6496\n",
      "Epoch 7/30\n",
      "110288/110288 [==============================] - 51s 459us/step - loss: 1.1414 - acc: 0.6640 - val_loss: nan - val_acc: 0.6336\n",
      "Epoch 8/30\n",
      "110288/110288 [==============================] - 50s 451us/step - loss: 1.1085 - acc: 0.6696 - val_loss: nan - val_acc: 0.6265\n",
      "Epoch 9/30\n",
      "110288/110288 [==============================] - 51s 466us/step - loss: 1.0739 - acc: 0.6743 - val_loss: nan - val_acc: 0.6284\n",
      "Epoch 10/30\n",
      "110288/110288 [==============================] - 51s 466us/step - loss: 1.0443 - acc: 0.6811 - val_loss: nan - val_acc: 0.6309\n",
      "Epoch 11/30\n",
      "110288/110288 [==============================] - 52s 468us/step - loss: 1.0217 - acc: 0.6862 - val_loss: nan - val_acc: 0.6333\n",
      "new jersey est parfois chaud au l' mais il est il en septembre <PAD> <PAD> <PAD> <PAD> <PAD> <PAD> <PAD> <PAD>\n",
      "Train accuracy:  0.632609967783\n"
     ]
    }
   ],
   "source": [
    "\n",
    "\n",
    "def encdec_model(input_shape, output_sequence_length, english_vocab_size, french_vocab_size):\n",
    "    \"\"\"\n",
    "    Build and train an encoder-decoder model on x and y\n",
    "    :param input_shape: Tuple of input shape\n",
    "    :param output_sequence_length: Length of output sequence\n",
    "    :param english_vocab_size: Number of unique English words in the dataset\n",
    "    :param french_vocab_size: Number of unique French words in the dataset\n",
    "    :return: Keras model built, but not trained\n",
    "    \"\"\"\n",
    "    learning_rate = 1e-3\n",
    "    model = Sequential()\n",
    "    #print(output_sequence_length)\n",
    "    #encoder\n",
    "    model.add(GRU(128, input_shape=input_shape[1:], return_sequences=False, dropout=0.1,recurrent_dropout = 0.5) )\n",
    "    model.add(RepeatVector(output_sequence_length))    \n",
    "    #decoder\n",
    "    model.add(GRU(128, return_sequences=True, dropout=0.1,recurrent_dropout = 0.5) )    \n",
    "    model.add(TimeDistributed(Dense(256, activation='tanh')))   \n",
    "    #output\n",
    "    model.add(TimeDistributed(Dense(french_vocab_size, activation='softmax') ))\n",
    "       \n",
    "    model.summary()\n",
    "    \n",
    "    model.compile(loss=sparse_categorical_crossentropy,\n",
    "                  optimizer=Adam(learning_rate),\n",
    "                  metrics=['accuracy'])\n",
    "    return model \n",
    "\n",
    "tests.test_encdec_model(encdec_model)\n",
    "\n",
    "\n",
    "# OPTIONAL: Train and Print prediction(s)\n",
    "\n",
    "# Reshaping the input to work with a basic RNN\n",
    "tmp_x = pad(preproc_english_sentences)\n",
    "tmp_x = tmp_x.reshape((-1, preproc_english_sentences.shape[1], 1))\n",
    "\n",
    "print(\"input shape: \", tmp_x.shape)\n",
    "\n",
    "# Train the neural network\n",
    "encdec_rnn_model = encdec_model(\n",
    "    tmp_x.shape,\n",
    "    max_french_sequence_length,\n",
    "    english_vocab_size,\n",
    "    french_vocab_size)\n",
    "# Set callback functions to early stop training and save the best model so far\n",
    "callbacks = [EarlyStopping(monitor='val_acc', min_delta=0.00001,patience = 5, mode='auto'),\n",
    "             ModelCheckpoint(filepath='encdec_rnn_model.h5', monitor='val_acc', save_best_only=True)]\n",
    "\n",
    "history = encdec_rnn_model.fit(tmp_x, preproc_french_sentences, batch_size=128,callbacks = callbacks, epochs=30, validation_split=0.2)\n",
    "# Print prediction(s)\n",
    "print(logits_to_text(encdec_rnn_model.predict(tmp_x[:1])[0], french_tokenizer))                    \n",
    "#print score\n",
    "score = encdec_rnn_model.evaluate(tmp_x, preproc_french_sentences, verbose=0)\n",
    "print(\"Train accuracy: \", score[1])\n",
    "\n",
    "# OPTIONAL: Train and Print prediction(s)"
   ]
  },
  {
   "cell_type": "markdown",
   "metadata": {},
   "source": [
    "### Model 5: Custom (IMPLEMENTATION)\n",
    "Use everything you learned from the previous models to create a model that incorporates embedding and a bidirectional rnn into one model."
   ]
  },
  {
   "cell_type": "code",
   "execution_count": 18,
   "metadata": {},
   "outputs": [
    {
     "name": "stdout",
     "output_type": "stream",
     "text": [
      "_________________________________________________________________\n",
      "Layer (type)                 Output Shape              Param #   \n",
      "=================================================================\n",
      "embedding_1 (Embedding)      (None, 15, 128)           44032     \n",
      "_________________________________________________________________\n",
      "bidirectional_1 (Bidirection (None, 256)               197376    \n",
      "_________________________________________________________________\n",
      "repeat_vector_1 (RepeatVecto (None, 21, 256)           0         \n",
      "_________________________________________________________________\n",
      "bidirectional_2 (Bidirection (None, 21, 256)           295680    \n",
      "_________________________________________________________________\n",
      "bidirectional_3 (Bidirection (None, 21, 128)           123264    \n",
      "_________________________________________________________________\n",
      "dense_1 (Dense)              (None, 21, 32)            4128      \n",
      "_________________________________________________________________\n",
      "time_distributed_1 (TimeDist (None, 21, 344)           11352     \n",
      "=================================================================\n",
      "Total params: 675,832\n",
      "Trainable params: 675,832\n",
      "Non-trainable params: 0\n",
      "_________________________________________________________________\n",
      "Final Model Loaded\n"
     ]
    }
   ],
   "source": [
    "def model_final(input_shape, output_sequence_length, english_vocab_size, french_vocab_size):\n",
    "    \"\"\"\n",
    "    Build and train a model that incorporates embedding, encoder-decoder, and bidirectional RNN on x and y\n",
    "    :param input_shape: Tuple of input shape\n",
    "    :param output_sequence_length: Length of output sequence\n",
    "    :param english_vocab_size: Number of unique English words in the dataset\n",
    "    :param french_vocab_size: Number of unique French words in the dataset\n",
    "    :return: Keras model built, but not trained\n",
    "    \"\"\"\n",
    "    # TODO: Implement\n",
    "    learning_rate = 1e-3\n",
    "    model = Sequential()\n",
    "    model.add(Embedding(max(english_vocab_size, french_vocab_size) ,128 , input_length=input_shape[1]))\n",
    "    #encoder\n",
    "    model.add(Bidirectional(GRU(128, return_sequences=False, dropout=0.1,recurrent_dropout = 0.5),input_shape=input_shape[1:]))\n",
    "    model.add(RepeatVector(output_sequence_length))\n",
    "    #decoder\n",
    "    model.add(Bidirectional(GRU(128, return_sequences=True, dropout=0.1,recurrent_dropout = 0.5)) )\n",
    "    model.add(Bidirectional(GRU(64, return_sequences=True, dropout=0.1,recurrent_dropout = 0.5)) )\n",
    "    model.add(Dense(32, activation='relu'))\n",
    "    #output\n",
    "    model.add(TimeDistributed(Dense(french_vocab_size, activation='softmax') ))   \n",
    "    \n",
    "    model.summary()\n",
    "    \n",
    "    model.compile(loss=sparse_categorical_crossentropy,\n",
    "                  optimizer=Adam(learning_rate),\n",
    "                  metrics=['accuracy'])\n",
    "    \n",
    "    return model\n",
    "tests.test_model_final(model_final)\n",
    "\n",
    "print('Final Model Loaded')\n",
    "# TODO: Train the final model\n",
    "# Visualize the model\n",
    "#https://machinelearningmastery.com/visualize-deep-learning-neural-network-model-keras/\n"
   ]
  },
  {
   "cell_type": "code",
   "execution_count": 43,
   "metadata": {},
   "outputs": [],
   "source": [
    "#! pip3 install ann_visualizer"
   ]
  },
  {
   "cell_type": "code",
   "execution_count": 44,
   "metadata": {},
   "outputs": [],
   "source": [
    "#! pip3 install graphviz"
   ]
  },
  {
   "cell_type": "code",
   "execution_count": 30,
   "metadata": {},
   "outputs": [],
   "source": [
    "import sys\n",
    "sys.path.append('/usr/local/lib/python2.7/dist-packages')"
   ]
  },
  {
   "cell_type": "code",
   "execution_count": 45,
   "metadata": {},
   "outputs": [],
   "source": [
    "#from ann_visualizer.visualize import ann_viz;\n",
    "#ann_viz(tests.test_model_final(model_final))"
   ]
  },
  {
   "cell_type": "code",
   "execution_count": 19,
   "metadata": {},
   "outputs": [],
   "source": [
    "# Draw the model\n",
    "learning_rate = 1e-3\n",
    "X_input = pad(preproc_english_sentences)#try if this works.dropna()\n",
    "input_shape = X_input.shape\n",
    "output_sequence_length = max_french_sequence_length\n",
    "model = Sequential()\n",
    "model.add(Embedding(max(english_vocab_size, french_vocab_size) ,128 , input_length=input_shape[1]))\n",
    "#encoder\n",
    "model.add(Bidirectional(GRU(128, return_sequences=False, dropout=0.1,recurrent_dropout = 0.5),input_shape=input_shape[1:]))\n",
    "model.add(RepeatVector(output_sequence_length))\n",
    "#decoder\n",
    "model.add(Bidirectional(GRU(128, return_sequences=True, dropout=0.1,recurrent_dropout = 0.5)) )\n",
    "model.add(Bidirectional(GRU(64, return_sequences=True, dropout=0.1,recurrent_dropout = 0.5)) )\n",
    "model.add(Dense(32, activation='relu'))\n",
    "#output\n",
    "model.add(TimeDistributed(Dense(french_vocab_size, activation='softmax') ))  \n",
    "\n",
    "from keras.utils.vis_utils import plot_model\n",
    "plot_model(model, to_file='model_plot.png', show_shapes=True, show_layer_names=True)\n",
    "#from ann_visualizer.visualize import ann_viz;\n",
    "# #Build your model here\n",
    "#ann_viz(model)"
   ]
  },
  {
   "cell_type": "code",
   "execution_count": 46,
   "metadata": {},
   "outputs": [],
   "source": [
    "#! pip install keras-vis"
   ]
  },
  {
   "cell_type": "code",
   "execution_count": null,
   "metadata": {},
   "outputs": [],
   "source": [
    "# https://github.com/raghakot/keras-vis\n",
    "# https://github.com/PaddlePaddle/VisualDL\n",
    "# https://towardsdatascience.com/visualizing-artificial-neural-networks-anns-with-just-one-line-of-code-b4233607209e\n",
    "# Visualization Libraries"
   ]
  },
  {
   "cell_type": "markdown",
   "metadata": {},
   "source": [
    "## Prediction (IMPLEMENTATION)"
   ]
  },
  {
   "cell_type": "code",
   "execution_count": 20,
   "metadata": {},
   "outputs": [
    {
     "name": "stdout",
     "output_type": "stream",
     "text": [
      "_________________________________________________________________\n",
      "Layer (type)                 Output Shape              Param #   \n",
      "=================================================================\n",
      "embedding_3 (Embedding)      (None, 15, 128)           44032     \n",
      "_________________________________________________________________\n",
      "bidirectional_7 (Bidirection (None, 256)               197376    \n",
      "_________________________________________________________________\n",
      "repeat_vector_3 (RepeatVecto (None, 21, 256)           0         \n",
      "_________________________________________________________________\n",
      "bidirectional_8 (Bidirection (None, 21, 256)           295680    \n",
      "_________________________________________________________________\n",
      "bidirectional_9 (Bidirection (None, 21, 128)           123264    \n",
      "_________________________________________________________________\n",
      "dense_5 (Dense)              (None, 21, 32)            4128      \n",
      "_________________________________________________________________\n",
      "time_distributed_3 (TimeDist (None, 21, 344)           11352     \n",
      "=================================================================\n",
      "Total params: 675,832\n",
      "Trainable params: 675,832\n",
      "Non-trainable params: 0\n",
      "_________________________________________________________________\n",
      "Train on 110288 samples, validate on 27573 samples\n",
      "Epoch 1/3\n",
      "110288/110288 [==============================] - 159s 1ms/step - loss: 2.1242 - acc: 0.5245 - val_loss: nan - val_acc: 0.5949\n",
      "Epoch 2/3\n",
      "110288/110288 [==============================] - 155s 1ms/step - loss: 1.3047 - acc: 0.6392 - val_loss: nan - val_acc: 0.6916\n",
      "Epoch 3/3\n",
      "110288/110288 [==============================] - 156s 1ms/step - loss: 0.9861 - acc: 0.7079 - val_loss: nan - val_acc: 0.7457\n",
      "Sample 1:\n",
      "il a vu ce camion camion blanc <PAD> <PAD> <PAD> <PAD> <PAD> <PAD> <PAD> <PAD> <PAD> <PAD> <PAD> <PAD> <PAD> <PAD>\n",
      "Il a vu un vieux camion jaune\n",
      "Sample 2:\n",
      "new jersey est jamais froid pendant l' mais il est est en en <PAD> <PAD> <PAD> <PAD> <PAD> <PAD> <PAD> <PAD>\n",
      "new jersey est parfois calme pendant l' automne et il est neigeux en avril <PAD> <PAD> <PAD> <PAD> <PAD> <PAD> <PAD>\n"
     ]
    }
   ],
   "source": [
    "#changed added history = fit\n",
    "# epochs has been increased to 100 , removed callback for early stopping\n",
    "def final_predictions(x, y, x_tk, y_tk):\n",
    "    \"\"\"\n",
    "    Gets predictions using the final model\n",
    "    :param x: Preprocessed English data\n",
    "    :param y: Preprocessed French data\n",
    "    :param x_tk: English tokenizer\n",
    "    :param y_tk: French tokenizer\n",
    "    \"\"\"\n",
    "    # TODO: Train neural network using model_final\n",
    "    X_input = pad(preproc_english_sentences)  \n",
    "    model = model_final(\n",
    "        X_input.shape,\n",
    "        max_french_sequence_length,\n",
    "        english_vocab_size,\n",
    "        french_vocab_size)\n",
    "    # Set callback functions to early stop training and save the best model so far\n",
    "    #callbacks = [EarlyStopping(monitor='val_acc', min_delta=0.0001,patience = 5, mode='auto'),\n",
    "             #ModelCheckpoint(filepath='final_model.h5', monitor='val_acc', save_best_only=True)]\n",
    "    #increase to later\n",
    "    history = model.fit(X_input, preproc_french_sentences, batch_size=128, epochs=3, validation_split=0.2)\n",
    "    \n",
    "    \n",
    "    ## DON'T EDIT ANYTHING BELOW THIS LINE\n",
    "    y_id_to_word = {value: key for key, value in y_tk.word_index.items()}\n",
    "    y_id_to_word[0] = '<PAD>'\n",
    "\n",
    "    sentence = 'he saw a old yellow truck'\n",
    "    sentence = [x_tk.word_index[word] for word in sentence.split()]\n",
    "    sentence = pad_sequences([sentence], maxlen=x.shape[-1], padding='post')\n",
    "    sentences = np.array([sentence[0], x[0]])\n",
    "    predictions = model.predict(sentences, len(sentences))\n",
    "\n",
    "    print('Sample 1:')\n",
    "    print(' '.join([y_id_to_word[np.argmax(x)] for x in predictions[0]]))\n",
    "    print('Il a vu un vieux camion jaune')\n",
    "    print('Sample 2:')\n",
    "    print(' '.join([y_id_to_word[np.argmax(x)] for x in predictions[1]]))\n",
    "    print(' '.join([y_id_to_word[np.max(x)] for x in y[0]]))\n",
    "\n",
    "\n",
    "final_predictions(preproc_english_sentences, preproc_french_sentences, english_tokenizer, french_tokenizer)\n"
   ]
  },
  {
   "cell_type": "markdown",
   "metadata": {},
   "source": [
    "#### for plotting the history"
   ]
  },
  {
   "cell_type": "code",
   "execution_count": null,
   "metadata": {},
   "outputs": [
    {
     "name": "stdout",
     "output_type": "stream",
     "text": [
      "_________________________________________________________________\n",
      "Layer (type)                 Output Shape              Param #   \n",
      "=================================================================\n",
      "embedding_10 (Embedding)     (None, 15, 128)           44032     \n",
      "_________________________________________________________________\n",
      "bidirectional_28 (Bidirectio (None, 256)               197376    \n",
      "_________________________________________________________________\n",
      "repeat_vector_10 (RepeatVect (None, 21, 256)           0         \n",
      "_________________________________________________________________\n",
      "bidirectional_29 (Bidirectio (None, 21, 256)           295680    \n",
      "_________________________________________________________________\n",
      "bidirectional_30 (Bidirectio (None, 21, 128)           123264    \n",
      "_________________________________________________________________\n",
      "dense_19 (Dense)             (None, 21, 32)            4128      \n",
      "_________________________________________________________________\n",
      "time_distributed_10 (TimeDis (None, 21, 344)           11352     \n",
      "=================================================================\n",
      "Total params: 675,832\n",
      "Trainable params: 675,832\n",
      "Non-trainable params: 0\n",
      "_________________________________________________________________\n",
      "Train on 110288 samples, validate on 27573 samples\n",
      "Epoch 1/50\n",
      "110288/110288 [==============================] - 161s 1ms/step - loss: 1.9794 - acc: 0.5470 - val_loss: nan - val_acc: 0.6264\n",
      "Epoch 2/50\n",
      "110288/110288 [==============================] - 156s 1ms/step - loss: 1.2078 - acc: 0.6650 - val_loss: nan - val_acc: 0.6970\n",
      "Epoch 3/50\n",
      "110288/110288 [==============================] - 157s 1ms/step - loss: 0.9569 - acc: 0.7155 - val_loss: nan - val_acc: 0.7475\n",
      "Epoch 4/50\n",
      "110288/110288 [==============================] - 155s 1ms/step - loss: 0.7899 - acc: 0.7555 - val_loss: nan - val_acc: 0.7882\n",
      "Epoch 5/50\n",
      "110288/110288 [==============================] - 156s 1ms/step - loss: 0.6571 - acc: 0.7943 - val_loss: nan - val_acc: 0.8243\n",
      "Epoch 6/50\n",
      "110288/110288 [==============================] - 157s 1ms/step - loss: 0.5555 - acc: 0.8243 - val_loss: nan - val_acc: 0.8642\n",
      "Epoch 7/50\n",
      "110288/110288 [==============================] - 156s 1ms/step - loss: 0.4583 - acc: 0.8605 - val_loss: nan - val_acc: 0.8958\n",
      "Epoch 8/50\n",
      "110288/110288 [==============================] - 156s 1ms/step - loss: 0.3778 - acc: 0.8871 - val_loss: nan - val_acc: 0.9206\n",
      "Epoch 9/50\n",
      "110288/110288 [==============================] - 156s 1ms/step - loss: 0.3139 - acc: 0.9081 - val_loss: nan - val_acc: 0.9389\n",
      "Epoch 10/50\n",
      "110288/110288 [==============================] - 156s 1ms/step - loss: 0.2655 - acc: 0.9238 - val_loss: nan - val_acc: 0.9496\n",
      "Epoch 11/50\n",
      "110288/110288 [==============================] - 156s 1ms/step - loss: 0.2309 - acc: 0.9342 - val_loss: nan - val_acc: 0.9563\n",
      "Epoch 12/50\n",
      "110288/110288 [==============================] - 155s 1ms/step - loss: 0.2070 - acc: 0.9412 - val_loss: nan - val_acc: 0.9608\n",
      "Epoch 13/50\n",
      "110288/110288 [==============================] - 156s 1ms/step - loss: 0.1873 - acc: 0.9465 - val_loss: nan - val_acc: 0.9616\n",
      "Epoch 14/50\n",
      "110288/110288 [==============================] - 157s 1ms/step - loss: 0.1741 - acc: 0.9503 - val_loss: nan - val_acc: 0.9623\n",
      "Epoch 15/50\n",
      "110288/110288 [==============================] - 156s 1ms/step - loss: 0.1651 - acc: 0.9525 - val_loss: nan - val_acc: 0.9662\n",
      "Epoch 16/50\n",
      "110288/110288 [==============================] - 157s 1ms/step - loss: 0.1575 - acc: 0.9546 - val_loss: nan - val_acc: 0.9680\n",
      "Epoch 17/50\n",
      "110288/110288 [==============================] - 155s 1ms/step - loss: 0.1473 - acc: 0.9572 - val_loss: nan - val_acc: 0.9682\n",
      "Epoch 18/50\n",
      "110288/110288 [==============================] - 156s 1ms/step - loss: 0.1429 - acc: 0.9588 - val_loss: nan - val_acc: 0.9705\n",
      "Epoch 19/50\n",
      "110288/110288 [==============================] - 156s 1ms/step - loss: 0.1387 - acc: 0.9598 - val_loss: nan - val_acc: 0.9710\n",
      "Epoch 20/50\n",
      "110288/110288 [==============================] - 157s 1ms/step - loss: 0.1283 - acc: 0.9627 - val_loss: nan - val_acc: 0.9729\n",
      "Epoch 21/50\n",
      "110288/110288 [==============================] - 157s 1ms/step - loss: 0.1258 - acc: 0.9634 - val_loss: nan - val_acc: 0.9751\n",
      "Epoch 22/50\n",
      "110288/110288 [==============================] - 157s 1ms/step - loss: 0.1156 - acc: 0.9663 - val_loss: nan - val_acc: 0.9742\n",
      "Epoch 23/50\n",
      "110288/110288 [==============================] - 156s 1ms/step - loss: 0.1170 - acc: 0.9659 - val_loss: nan - val_acc: 0.9743\n",
      "Epoch 24/50\n",
      "110288/110288 [==============================] - 152s 1ms/step - loss: 0.1153 - acc: 0.9666 - val_loss: nan - val_acc: 0.9757\n",
      "Epoch 25/50\n",
      "110288/110288 [==============================] - 151s 1ms/step - loss: 0.1118 - acc: 0.9675 - val_loss: nan - val_acc: 0.9740\n",
      "Epoch 26/50\n",
      "110288/110288 [==============================] - 152s 1ms/step - loss: 0.1096 - acc: 0.9683 - val_loss: nan - val_acc: 0.9765\n",
      "Epoch 27/50\n",
      "110288/110288 [==============================] - 152s 1ms/step - loss: 0.1115 - acc: 0.9680 - val_loss: nan - val_acc: 0.9777\n",
      "Epoch 28/50\n",
      "110288/110288 [==============================] - 152s 1ms/step - loss: 0.1038 - acc: 0.9699 - val_loss: nan - val_acc: 0.9778\n",
      "Epoch 29/50\n",
      "110288/110288 [==============================] - 152s 1ms/step - loss: 0.0999 - acc: 0.9710 - val_loss: nan - val_acc: 0.9791\n",
      "Epoch 30/50\n",
      "110288/110288 [==============================] - 154s 1ms/step - loss: 0.0987 - acc: 0.9714 - val_loss: nan - val_acc: 0.9795\n",
      "Epoch 31/50\n",
      "110288/110288 [==============================] - 153s 1ms/step - loss: 0.0971 - acc: 0.9721 - val_loss: nan - val_acc: 0.9792\n",
      "Epoch 32/50\n",
      "110288/110288 [==============================] - 156s 1ms/step - loss: 0.0947 - acc: 0.9726 - val_loss: nan - val_acc: 0.9800\n",
      "Epoch 33/50\n",
      "110288/110288 [==============================] - 156s 1ms/step - loss: 0.0939 - acc: 0.9729 - val_loss: nan - val_acc: 0.9807\n",
      "Epoch 34/50\n",
      "110288/110288 [==============================] - 156s 1ms/step - loss: 0.0907 - acc: 0.9738 - val_loss: nan - val_acc: 0.9782\n",
      "Epoch 35/50\n",
      "110288/110288 [==============================] - 155s 1ms/step - loss: 0.0929 - acc: 0.9731 - val_loss: nan - val_acc: 0.9811\n",
      "Epoch 36/50\n",
      "110288/110288 [==============================] - 155s 1ms/step - loss: 0.0874 - acc: 0.9748 - val_loss: nan - val_acc: 0.9810\n",
      "Epoch 37/50\n",
      "110288/110288 [==============================] - 157s 1ms/step - loss: 0.0883 - acc: 0.9743 - val_loss: nan - val_acc: 0.9802\n",
      "Epoch 38/50\n",
      "110288/110288 [==============================] - 156s 1ms/step - loss: 0.0860 - acc: 0.9751 - val_loss: nan - val_acc: 0.9813\n",
      "Epoch 39/50\n",
      "110288/110288 [==============================] - 156s 1ms/step - loss: 0.0883 - acc: 0.9746 - val_loss: nan - val_acc: 0.9817\n",
      "Epoch 40/50\n",
      "110288/110288 [==============================] - 156s 1ms/step - loss: 0.0809 - acc: 0.9766 - val_loss: nan - val_acc: 0.9821\n",
      "Epoch 41/50\n",
      "110288/110288 [==============================] - 157s 1ms/step - loss: 0.0809 - acc: 0.9767 - val_loss: nan - val_acc: 0.9812\n",
      "Epoch 42/50\n",
      "110288/110288 [==============================] - 156s 1ms/step - loss: 0.0883 - acc: 0.9748 - val_loss: nan - val_acc: 0.9816\n",
      "Epoch 43/50\n",
      "110288/110288 [==============================] - 155s 1ms/step - loss: 0.0788 - acc: 0.9771 - val_loss: nan - val_acc: 0.9810\n",
      "Epoch 44/50\n",
      "110288/110288 [==============================] - 156s 1ms/step - loss: 0.0821 - acc: 0.9764 - val_loss: nan - val_acc: 0.9824\n",
      "Epoch 45/50\n",
      "110288/110288 [==============================] - 156s 1ms/step - loss: 0.0784 - acc: 0.9773 - val_loss: nan - val_acc: 0.9826\n",
      "Epoch 46/50\n",
      "110288/110288 [==============================] - 155s 1ms/step - loss: 0.0793 - acc: 0.9774 - val_loss: nan - val_acc: 0.9813\n",
      "Epoch 47/50\n",
      "110288/110288 [==============================] - 156s 1ms/step - loss: 0.0816 - acc: 0.9765 - val_loss: nan - val_acc: 0.9813\n",
      "Epoch 48/50\n",
      "110288/110288 [==============================] - 156s 1ms/step - loss: 0.0793 - acc: 0.9773 - val_loss: nan - val_acc: 0.9832\n",
      "Epoch 49/50\n",
      "110288/110288 [==============================] - 156s 1ms/step - loss: 0.0774 - acc: 0.9778 - val_loss: nan - val_acc: 0.9828\n",
      "Epoch 50/50\n",
      "110288/110288 [==============================] - 156s 1ms/step - loss: 0.0759 - acc: 0.9781 - val_loss: nan - val_acc: 0.9834\n"
     ]
    },
    {
     "name": "stdout",
     "output_type": "stream",
     "text": [
      "_________________________________________________________________\n",
      "Layer (type)                 Output Shape              Param #   \n",
      "=================================================================\n",
      "embedding_11 (Embedding)     (None, 15, 128)           44032     \n",
      "_________________________________________________________________\n",
      "bidirectional_31 (Bidirectio (None, 256)               197376    \n",
      "_________________________________________________________________\n",
      "repeat_vector_11 (RepeatVect (None, 21, 256)           0         \n",
      "_________________________________________________________________\n",
      "bidirectional_32 (Bidirectio (None, 21, 256)           295680    \n",
      "_________________________________________________________________\n",
      "bidirectional_33 (Bidirectio (None, 21, 128)           123264    \n",
      "_________________________________________________________________\n",
      "dense_21 (Dense)             (None, 21, 32)            4128      \n",
      "_________________________________________________________________\n",
      "time_distributed_11 (TimeDis (None, 21, 344)           11352     \n",
      "=================================================================\n",
      "Total params: 675,832\n",
      "Trainable params: 675,832\n",
      "Non-trainable params: 0\n",
      "_________________________________________________________________\n"
     ]
    },
    {
     "data": {
      "image/png": "[encoded data removed]",
      "text/plain": [
       "<matplotlib.figure.Figure at 0x7fc7ebef8cf8>"
      ]
     },
     "metadata": {},
     "output_type": "display_data"
    },
    {
     "data": {
      "image/png": "[encoded data removed]",
      "text/plain": [
       "<matplotlib.figure.Figure at 0x7fc7dfabe470>"
      ]
     },
     "metadata": {},
     "output_type": "display_data"
    }
   ],
   "source": [
    "learning_rate = 1e-3\n",
    "model = Sequential()\n",
    "model.add(Embedding(max(english_vocab_size, french_vocab_size) ,128 , input_length=input_shape[1]))\n",
    "#encoder\n",
    "model.add(Bidirectional(GRU(128, return_sequences=False, dropout=0.1,recurrent_dropout = 0.5),input_shape=input_shape[1:]))\n",
    "model.add(RepeatVector(output_sequence_length))\n",
    "#decoder\n",
    "model.add(Bidirectional(GRU(128, return_sequences=True, dropout=0.1,recurrent_dropout = 0.5)) )\n",
    "model.add(Bidirectional(GRU(64, return_sequences=True, dropout=0.1,recurrent_dropout = 0.5)) )\n",
    "model.add(Dense(32, activation='relu'))\n",
    "#output\n",
    "model.add(TimeDistributed(Dense(french_vocab_size, activation='softmax') ))   \n",
    "    \n",
    "model.summary()\n",
    "    \n",
    "model.compile(loss=sparse_categorical_crossentropy,\n",
    "                  optimizer=Adam(learning_rate),\n",
    "                  metrics=['accuracy'])\n",
    "history = model.fit(X_input, preproc_french_sentences, batch_size=128, epochs=50, validation_split=0.2)\n",
    "X_input = pad(preproc_english_sentences)  \n",
    "model = model_final(\n",
    "        X_input.shape,\n",
    "        max_french_sequence_length,\n",
    "        english_vocab_size,\n",
    "        french_vocab_size)\n",
    "acc = history.history['acc']\n",
    "val_acc = history.history['val_acc']\n",
    "loss = history.history['loss']\n",
    "val_loss = history.history['val_loss']\n",
    "\n",
    "epochs = range(1, len(acc) + 1)\n",
    "\n",
    "plt.plot(epochs, acc, 'bo', label='Training acc')\n",
    "plt.plot(epochs, val_acc, 'b', label='Validation acc')\n",
    "plt.title('Training and validation accuracy')\n",
    "plt.legend()\n",
    "\n",
    "plt.figure()\n",
    "\n",
    "plt.plot(epochs, loss, 'bo', label='Training loss')\n",
    "#plt.plot(epochs, val_loss, 'b', label='Validation loss')\n",
    "plt.title('Training loss')\n",
    "plt.legend()\n",
    "\n",
    "plt.show()"
   ]
  },
  {
   "cell_type": "markdown",
   "metadata": {},
   "source": [
    "## Submission\n",
    "When you're ready to submit, complete the following steps:\n",
    "1. Review the [rubric](https://review.udacity.com/#!/rubrics/1004/view) to ensure your submission meets all requirements to pass\n",
    "2. Generate an HTML version of this notebook\n",
    "\n",
    "  - Run the next cell to attempt automatic generation (this is the recommended method in Workspaces)\n",
    "  - Navigate to **FILE -> Download as -> HTML (.html)**\n",
    "  - Manually generate a copy using `nbconvert` from your shell terminal\n",
    "```\n",
    "$ pip install nbconvert\n",
    "$ python -m nbconvert machine_translation.ipynb\n",
    "```\n",
    "  \n",
    "3. Submit the project\n",
    "\n",
    "  - If you are in a Workspace, simply click the \"Submit Project\" button (bottom towards the right)\n",
    "  \n",
    "  - Otherwise, add the following files into a zip archive and submit them \n",
    "  - `helper.py`\n",
    "  - `machine_translation.ipynb`\n",
    "  - `machine_translation.html`\n",
    "    - You can export the notebook by navigating to **File -> Download as -> HTML (.html)**."
   ]
  },
  {
   "cell_type": "markdown",
   "metadata": {},
   "source": [
    "### Generate the html\n",
    "\n",
    "**Save your notebook before running the next cell to generate the HTML output.** Then submit your project."
   ]
  },
  {
   "cell_type": "code",
   "execution_count": 22,
   "metadata": {},
   "outputs": [
    {
     "data": {
      "text/plain": [
       "['[NbConvertApp] Converting notebook machine_translation.ipynb to html',\n",
       " '[NbConvertApp] Writing 468387 bytes to machine_translation.html']"
      ]
     },
     "execution_count": 22,
     "metadata": {},
     "output_type": "execute_result"
    }
   ],
   "source": [
    "# Save before you run this cell!\n",
    "!!jupyter nbconvert *.ipynb"
   ]
  },
  {
   "cell_type": "markdown",
   "metadata": {},
   "source": [
    "## Optional Enhancements\n",
    "\n",
    "This project focuses on learning various network architectures for machine translation, but we don't evaluate the models according to best practices by splitting the data into separate test & training sets -- so the model accuracy is overstated. Use the [`sklearn.model_selection.train_test_split()`](http://scikit-learn.org/stable/modules/generated/sklearn.model_selection.train_test_split.html) function to create separate training & test datasets, then retrain each of the models using only the training set and evaluate the prediction accuracy using the hold out test set. Does the \"best\" model change?"
   ]
  },
  {
   "cell_type": "code",
   "execution_count": null,
   "metadata": {},
   "outputs": [
    {
     "name": "stdout",
     "output_type": "stream",
     "text": [
      "_________________________________________________________________\n",
      "Layer (type)                 Output Shape              Param #   \n",
      "=================================================================\n",
      "embedding_12 (Embedding)     (None, 15, 128)           44032     \n",
      "_________________________________________________________________\n",
      "bidirectional_34 (Bidirectio (None, 256)               197376    \n",
      "_________________________________________________________________\n",
      "repeat_vector_12 (RepeatVect (None, 21, 256)           0         \n",
      "_________________________________________________________________\n",
      "bidirectional_35 (Bidirectio (None, 21, 256)           295680    \n",
      "_________________________________________________________________\n",
      "bidirectional_36 (Bidirectio (None, 21, 128)           123264    \n",
      "_________________________________________________________________\n",
      "dense_23 (Dense)             (None, 21, 32)            4128      \n",
      "_________________________________________________________________\n",
      "time_distributed_12 (TimeDis (None, 21, 344)           11352     \n",
      "=================================================================\n",
      "Total params: 675,832\n",
      "Trainable params: 675,832\n",
      "Non-trainable params: 0\n",
      "_________________________________________________________________\n"
     ]
    }
   ],
   "source": [
    "# fixed random seed for reproducibility\n",
    "seed = 7\n",
    "np.random.seed(seed)\n",
    "# define 3-fold cross validation test harness\n",
    "kfold = StratifiedKFold(n_splits=3, shuffle=True, random_state=seed)\n",
    "cross_val_scores=[]\n",
    "for train_index, test_index in kfold.split(preproc_english_sentences,preproc_french_sentences[:,0,0]):\n",
    "   \n",
    "    model = model_final(preproc_english_sentences[train_index].shape,\n",
    "                        max_french_sequence_length,\n",
    "                        english_vocab_size,\n",
    "                        french_vocab_size)\n",
    "    # fit the model 50 epochs\n",
    "    model.fit(preproc_english_sentences[train_index], preproc_french_sentences[train_index],\n",
    "              batch_size=128, epochs=50, verbose=0)\n",
    "    # evaluate the model\n",
    "    scores = model.evaluate(preproc_english_sentences[test_index], preproc_french_sentences[test_index], verbose=0)\n",
    "    print(\"%s: %.2f%%\" % (model.metrics_names[1], scores[1]*100))\n",
    "    cross_val_scores.append(scores[1]*100)\n",
    "print(\"%.2f%% (+/- %.2f%%)\" % (np.mean(cross_val_scores), np.std(cross_val_scores)))"
   ]
  },
  {
   "cell_type": "markdown",
   "metadata": {},
   "source": [
    "References:\n",
    "https://github.com/fchollet/deep-learning-with-python-notebooks/blob/master/6.1-using-word-embeddings.ipynb\n",
    "https://machinelearningmastery.com/define-encoder-decoder-sequence-sequence-model-neural-machine-translation-keras/"
   ]
  }
 ],
 "metadata": {
  "kernelspec": {
   "display_name": "Python 3",
   "language": "python",
   "name": "python3"
  },
  "language_info": {
   "codemirror_mode": {
    "name": "ipython",
    "version": 3
   },
   "file_extension": ".py",
   "mimetype": "text/x-python",
   "name": "python",
   "nbconvert_exporter": "python",
   "pygments_lexer": "ipython3",
   "version": "3.6.3"
  }
 },
 "nbformat": 4,
 "nbformat_minor": 1
}
